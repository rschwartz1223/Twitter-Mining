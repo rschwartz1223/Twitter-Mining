{
 "cells": [
  {
   "cell_type": "markdown",
   "metadata": {},
   "source": [
    "We will be using the tweepy library to access Twitter's API and conduct some exploratory data analysis. First, we must authorize our new application to access Twitter."
   ]
  },
  {
   "cell_type": "code",
   "execution_count": 1,
   "metadata": {},
   "outputs": [],
   "source": [
    "import tweepy\n",
    "from tweepy import OAuthHandler\n",
    "import json\n",
    "\n",
    "consumer_key = '___'\n",
    "consumer_secret = '___'\n",
    "access_token = '___'\n",
    "access_secret = '___'\n",
    "\n",
    "auth = OAuthHandler(consumer_key, consumer_secret)\n",
    "auth.set_access_token(access_token, access_secret)\n",
    "\n",
    "api = tweepy.API(auth)"
   ]
  },
  {
   "cell_type": "markdown",
   "metadata": {},
   "source": [
    "We have now authorized our application to access Twitter. We can test this by printing out a tweet on our timeline. In this case, I am printing out my tweet: \"demo tweet\". As we can see, all components of this tweet are printed."
   ]
  },
  {
   "cell_type": "code",
   "execution_count": 2,
   "metadata": {
    "scrolled": true
   },
   "outputs": [
    {
     "name": "stdout",
     "output_type": "stream",
     "text": [
      "{\"created_at\": \"Mon Jun 17 04:49:23 +0000 2019\", \"id\": 1140481541539160065, \"id_str\": \"1140481541539160065\", \"text\": \"demo tweet\", \"truncated\": false, \"entities\": {\"hashtags\": [], \"symbols\": [], \"user_mentions\": [], \"urls\": []}, \"source\": \"<a href=\\\"http://twitter.com\\\" rel=\\\"nofollow\\\">Twitter Web Client</a>\", \"in_reply_to_status_id\": null, \"in_reply_to_status_id_str\": null, \"in_reply_to_user_id\": null, \"in_reply_to_user_id_str\": null, \"in_reply_to_screen_name\": null, \"user\": {\"id\": 1138232906080370688, \"id_str\": \"1138232906080370688\", \"name\": \"Robert\", \"screen_name\": \"Robert35487043\", \"location\": \"\", \"description\": \"\", \"url\": null, \"entities\": {\"description\": {\"urls\": []}}, \"protected\": false, \"followers_count\": 0, \"friends_count\": 0, \"listed_count\": 0, \"created_at\": \"Mon Jun 10 23:54:06 +0000 2019\", \"favourites_count\": 0, \"utc_offset\": null, \"time_zone\": null, \"geo_enabled\": false, \"verified\": false, \"statuses_count\": 1, \"lang\": null, \"contributors_enabled\": false, \"is_translator\": false, \"is_translation_enabled\": false, \"profile_background_color\": \"F5F8FA\", \"profile_background_image_url\": null, \"profile_background_image_url_https\": null, \"profile_background_tile\": false, \"profile_image_url\": \"http://abs.twimg.com/sticky/default_profile_images/default_profile_normal.png\", \"profile_image_url_https\": \"https://abs.twimg.com/sticky/default_profile_images/default_profile_normal.png\", \"profile_link_color\": \"1DA1F2\", \"profile_sidebar_border_color\": \"C0DEED\", \"profile_sidebar_fill_color\": \"DDEEF6\", \"profile_text_color\": \"333333\", \"profile_use_background_image\": true, \"has_extended_profile\": true, \"default_profile\": true, \"default_profile_image\": true, \"following\": false, \"follow_request_sent\": false, \"notifications\": false, \"translator_type\": \"none\"}, \"geo\": null, \"coordinates\": null, \"place\": null, \"contributors\": null, \"is_quote_status\": false, \"retweet_count\": 0, \"favorite_count\": 0, \"favorited\": false, \"retweeted\": false, \"lang\": \"es\"}\n"
     ]
    }
   ],
   "source": [
    "def process_tweets(tweet):\n",
    "    print(json.dumps(tweet))\n",
    "\n",
    "for tweet in tweepy.Cursor(api.user_timeline).items():\n",
    "    process_tweets(tweet._json)"
   ]
  },
  {
   "cell_type": "markdown",
   "metadata": {},
   "source": [
    "Now, let's select some tweets using a specific hashtag. We will choose 100 tweets from 01/01/19 and beyond that contain the hashtag '#Democrat' and 50 tweets that contain the hashtag '#Republican'."
   ]
  },
  {
   "cell_type": "code",
   "execution_count": 12,
   "metadata": {},
   "outputs": [],
   "source": [
    "tweets_democrat = [tweet for tweet in tweepy.Cursor(api.search,\n",
    "                                           q = \"#Democrat\",\n",
    "                                           lang = \"en\",\n",
    "                                           since = \"2019-01-01\").items(100)]\n",
    "\n",
    "tweets_republican = [tweet for tweet in tweepy.Cursor(api.search,\n",
    "                                           q = \"#Republican\",\n",
    "                                           lang = \"en\",\n",
    "                                           since = \"2019-01-01\").items(100)]\n",
    "\n",
    "# for tweet_d in tweets_democrat:\n",
    "#     print(tweet_d.text)\n",
    "    \n",
    "# for tweet_r in tweets_republican:\n",
    "#     print(tweet_r.text)\n"
   ]
  },
  {
   "cell_type": "markdown",
   "metadata": {},
   "source": [
    "We can tokenize the text in these tweets, but we must also consider irregular terms (emoticons, hashtags, number formatting, etc.). To account for this, we will use regex and a pre-processing function."
   ]
  },
  {
   "cell_type": "code",
   "execution_count": 4,
   "metadata": {},
   "outputs": [],
   "source": [
    "import re\n",
    "\n",
    "emoticons_str = r\"\"\"(?:\n",
    "    [:=;] #eyes\n",
    "    [oO\\-]? #nose\n",
    "    [D\\)\\]\\(\\]/\\\\OpP] #mouth\n",
    "    )\"\"\"\n",
    "\n",
    "regex_str = [emoticons_str,\n",
    "             r'<[^>]+>', #HTML\n",
    "             r'(?:@[\\w_]+)', #@-mentions\n",
    "             r\"(?:\\#+[\\w_]+[\\w\\'_\\-]*[\\w_]+)\", #hashtags\n",
    "             r'http[s]?://(?:[a-z]|[0-9]|[$-_@.&amp;+]|[!*\\(\\),]|(?:%[0-9a-f][0-9a-f]))+', #URLs\n",
    "             r'(?:(?:\\d+,?)+(?:\\.?\\d+)?)', #numbers\n",
    "             r\"(?:[a-z][a-z'\\-_]+[a-z])\", #words containing - and '\n",
    "             r'(?:[\\w_]+)', #other words\n",
    "             r'(?:\\S)' #anything else\n",
    "            ]\n",
    "\n",
    "tokens_re = re.compile(r'(' + '|'.join(regex_str) + ')', re.VERBOSE | re.IGNORECASE)\n",
    "emoticon_re = re.compile(r'^' + emoticons_str + '$', re.VERBOSE | re.IGNORECASE)\n",
    "\n",
    "def tokenize(s):\n",
    "    return tokens_re.findall(s)\n",
    "\n",
    "def preprocess(s, lowercase = False):\n",
    "    tokens = tokenize(s)\n",
    "    if lowercase:\n",
    "        tokens = [token if emoticon_re.search(token) else token.lower() for token in tokens]\n",
    "    return tokens\n",
    "\n",
    "# for tweet in tweets:\n",
    "#     print(str(preprocess(tweet.text)) + '\\n')"
   ]
  },
  {
   "cell_type": "markdown",
   "metadata": {},
   "source": [
    "Now that we are able to tokenize each tweet, we can conduct some analysis on them. First, let's look at term frequency. We will be using NLTK library in order to remove common English stop-words, so we can focus solely on more useful terms."
   ]
  },
  {
   "cell_type": "code",
   "execution_count": 5,
   "metadata": {},
   "outputs": [
    {
     "name": "stdout",
     "output_type": "stream",
     "text": [
      "[('racist', 33), ('wonder', 31), ('realize', 31), ('convince', 31), ('matter', 31)]\n",
      "[('vote', 18), ('amp', 14), ('violence', 11), ('Please', 10), ('would', 9)]\n"
     ]
    }
   ],
   "source": [
    "from collections import Counter\n",
    "from nltk.corpus import stopwords\n",
    "import string\n",
    "\n",
    "punctuation = list(string.punctuation)\n",
    "terms_misc = ['rt', 'via', 'RT', '…', '’']\n",
    "stop_lower = stopwords.words('english')\n",
    "stop_upper = [word.upper() for word in stop_lower]\n",
    "stop_proper = [word.capitalize() for word in stop_lower]\n",
    "terms_useless = punctuation + terms_misc + stop_lower + stop_upper + stop_proper\n",
    "\n",
    "count_all_democrat = Counter()\n",
    "for tweet_d in tweets_democrat:\n",
    "    terms_important_democrat = [term for term in preprocess(tweet_d.text) if term not in terms_useless\n",
    "                                                                 and not term.startswith('@')\n",
    "                                                                 and not term.startswith('#')\n",
    "                                                                 and not term.startswith('https:')]\n",
    "    count_all_democrat.update(terms_important_democrat)\n",
    "    \n",
    "count_all_republican = Counter()\n",
    "for tweet_r in tweets_republican:\n",
    "    terms_important_republican = [term for term in preprocess(tweet_r.text) if term not in terms_useless\n",
    "                                                                 and not term.startswith('@')\n",
    "                                                                 and not term.startswith('#')\n",
    "                                                                 and not term.startswith('https:')]\n",
    "    count_all_republican.update(terms_important_republican)\n",
    "\n",
    "print(count_all_democrat.most_common(5))\n",
    "print(count_all_republican.most_common(5))\n",
    "# print(terms_useless)"
   ]
  },
  {
   "cell_type": "code",
   "execution_count": 27,
   "metadata": {},
   "outputs": [
    {
     "data": {
      "image/png": "[encoded data removed]",
      "text/plain": [
       "<Figure size 1080x360 with 1 Axes>"
      ]
     },
     "metadata": {
      "needs_background": "light"
     },
     "output_type": "display_data"
    }
   ],
   "source": [
    "%matplotlib inline\n",
    "import matplotlib.pyplot as plt\n",
    "plt.rcParams['figure.figsize'] = [15, 5]\n",
    "\n",
    "# amount of x-axis values\n",
    "bottom = [1, 2, 3, 4, 5, 6, 7, 8, 9, 10]\n",
    "\n",
    "# x-axis values for democrat and republican graphs respectively\n",
    "x_d = [a[0] for a in count_all_democrat.most_common(5)]\n",
    "x_r = [b[0] for b in count_all_republican.most_common(5)]\n",
    "tick_label = x_d + x_r\n",
    "\n",
    "# y-axis values for democrat and republican graphs respectively\n",
    "y_d = [c[1] for c in count_all_democrat.most_common(5)]\n",
    "y_r = [d[1] for d in count_all_republican.most_common(5)]\n",
    "height = y_d + y_r\n",
    "\n",
    "\n",
    "bar_graph = plt.bar(bottom, height, tick_label = tick_label, width = 0.8)\n",
    "for i in [0,1,2,3,4]:\n",
    "    bar_graph[i].set_color('blue')\n",
    "    \n",
    "for j in [5,6,7,8,9]:\n",
    "    bar_graph[j].set_color('red') \n",
    "\n",
    "plt.xlabel('Most Common Terms') \n",
    "plt.ylabel('Occurrences of Terms')\n",
    "plt.title('Term Frequency Democrat vs. Republican') \n",
    "\n",
    "plt.show() "
   ]
  },
  {
   "cell_type": "markdown",
   "metadata": {},
   "source": [
    "We can view sequences of 2 consecutive terms using bigrams from the NLTK libary."
   ]
  },
  {
   "cell_type": "code",
   "execution_count": 11,
   "metadata": {},
   "outputs": [],
   "source": [
    "from nltk import bigrams\n",
    "\n",
    "terms_bigrams_democrat = bigrams(count_all_democrat)\n",
    "count_all_bigram_democrat = Counter()\n",
    "\n",
    "terms_bigrams_republican = bigrams(count_all_republican)\n",
    "count_all_bigram_republican = Counter()\n",
    "\n",
    "# print(list(terms_bigrams_democrat))\n",
    "# print(list(terms_bigrams_republican))"
   ]
  },
  {
   "cell_type": "markdown",
   "metadata": {},
   "source": [
    "The code above can be used to find term co-occurences."
   ]
  },
  {
   "cell_type": "code",
   "execution_count": 10,
   "metadata": {},
   "outputs": [
    {
     "name": "stdout",
     "output_type": "stream",
     "text": [
      "[(('destroy', 'vote'), 32), (('realize', 'wonder'), 31), (('realize', 'times'), 31), (('convince', 'wonder'), 31), (('convince', 'realize'), 31)]\n",
      "[(('case', 'missed'), 9), (('case', 'foments'), 9), (('case', 'violence'), 9), (('case', 'murder'), 9), (('case', 'impunity'), 9)]\n"
     ]
    }
   ],
   "source": [
    "from collections import defaultdict\n",
    "import operator\n",
    "\n",
    "com_democrat = defaultdict(lambda: defaultdict(int))\n",
    "com_republican = defaultdict(lambda: defaultdict(int))\n",
    "\n",
    "for tweet in tweets_democrat:\n",
    "    terms_democrat = [term for term in preprocess(tweet.text) if term not in terms_useless\n",
    "                                                                 and not term.startswith('@')\n",
    "                                                                 and not term.startswith('#')\n",
    "                                                                 and not term.startswith('https:')]\n",
    "    # build co-occurrence matrix\n",
    "    for i in range(len(terms_democrat) - 1):\n",
    "        for j in range(i + 1, len(terms_democrat)):\n",
    "            w1, w2 = sorted([terms_democrat[i], terms_democrat[j]])\n",
    "            if w1 != w2:\n",
    "                com_democrat[w1][w2] += 1\n",
    "   \n",
    "for tweet in tweets_republican:\n",
    "    terms_republican = [term for term in preprocess(tweet.text) if term not in terms_useless\n",
    "                                                                 and not term.startswith('@')\n",
    "                                                                 and not term.startswith('#')\n",
    "                                                                 and not term.startswith('https:')]\n",
    "    for i in range(len(terms_republican) - 1):\n",
    "        for j in range(i + 1, len(terms_republican)):\n",
    "            w1, w2 = sorted([terms_republican[i], terms_republican[j]])\n",
    "            if w1 != w2:\n",
    "                com_republican[w1][w2] += 1\n",
    "\n",
    "com_max_democrat = []\n",
    "com_max_republican = []\n",
    "\n",
    "# find most common co-occurence terms\n",
    "for t1 in com_democrat:\n",
    "    t1_max_terms_d = sorted(com_democrat[t1].items(), key = operator.itemgetter(1), reverse = True)[:5]\n",
    "    for t2, t2_count in t1_max_terms_d:\n",
    "        com_max_democrat.append(((t1, t2), t2_count))\n",
    "\n",
    "for t1 in com_republican:\n",
    "    t1_max_terms_r = sorted(com_republican[t1].items(), key = operator.itemgetter(1), reverse = True)[:5]\n",
    "    for t2, t2_count in t1_max_terms_r:\n",
    "        com_max_republican.append(((t1, t2), t2_count))\n",
    "        \n",
    "# get most frequent co-occurrences\n",
    "terms_max_democrat = sorted(com_max_democrat, key = operator.itemgetter(1), reverse = True)\n",
    "print(terms_max_democrat[:5])\n",
    "\n",
    "terms_max_republican = sorted(com_max_republican, key = operator.itemgetter(1), reverse = True)\n",
    "print(terms_max_republican[:5])"
   ]
  }
 ],
 "metadata": {
  "kernelspec": {
   "display_name": "Python 3",
   "language": "python",
   "name": "python3"
  },
  "language_info": {
   "codemirror_mode": {
    "name": "ipython",
    "version": 3
   },
   "file_extension": ".py",
   "mimetype": "text/x-python",
   "name": "python",
   "nbconvert_exporter": "python",
   "pygments_lexer": "ipython3",
   "version": "3.7.0"
  }
 },
 "nbformat": 4,
 "nbformat_minor": 2
}
